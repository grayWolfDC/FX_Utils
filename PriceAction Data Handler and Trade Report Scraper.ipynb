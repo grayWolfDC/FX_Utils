{
 "cells": [
  {
   "cell_type": "code",
   "execution_count": 1,
   "metadata": {
    "collapsed": true
   },
   "outputs": [],
   "source": [
    "import pandas as pd"
   ]
  },
  {
   "cell_type": "code",
   "execution_count": 150,
   "metadata": {
    "collapsed": true
   },
   "outputs": [],
   "source": [
    "import numpy as np"
   ]
  },
  {
   "cell_type": "code",
   "execution_count": null,
   "metadata": {
    "collapsed": true
   },
   "outputs": [],
   "source": [
    "class RecordedTrade(Item):\n",
    "    ActionNum = Field()\n",
    "    Time = Field()\n",
    "    Type = Field()\n",
    "    Order = Field()\n",
    "    Size = Field()\n",
    "    Price = Field()\n",
    "    SL = Field()\n",
    "    TP = Field()\n",
    "    Profit = Field()\n",
    "    Balance = Field()\n",
    "\n",
    "class TradeSpider(BaseSpider):\n",
    "    \"Spider for extracting \""
   ]
  },
  {
   "cell_type": "markdown",
   "metadata": {},
   "source": [
    "Objectives:\n",
    "    * scrape trade data off the htm files put out as report by mT4\n",
    "    * get candle data exported from the history center as a csv file\n",
    "    * do some analytics that include\n",
    "    * get trade setup\n",
    "        * calculate min. win rate at trade entry, trade modification (if any) and trade exit\n",
    "    * get corresponding candle data\n",
    "        * compare body/whisker length at trade entry, trade modification (if any) and trade exit\n",
    "        * track trade volume throughout\n",
    "    * find whether there are any links between these data and trade outcomes"
   ]
  },
  {
   "cell_type": "code",
   "execution_count": 6,
   "metadata": {
    "collapsed": false
   },
   "outputs": [],
   "source": [
    "candleFname = 'EURUSD60.csv'\n",
    "candleDF = pd.read_csv(candleFname,names=['DATE','TIME','OPEN','HIGH','LOW','CLOSE','VOLUME'],index_col=['DATE','TIME'])"
   ]
  },
  {
   "cell_type": "code",
   "execution_count": 12,
   "metadata": {
    "collapsed": false
   },
   "outputs": [
    {
     "data": {
      "text/html": [
       "<div style=\"max-height:1000px;max-width:1500px;overflow:auto;\">\n",
       "<table border=\"1\" class=\"dataframe\">\n",
       "  <thead>\n",
       "    <tr style=\"text-align: right;\">\n",
       "      <th></th>\n",
       "      <th></th>\n",
       "      <th>OPEN</th>\n",
       "      <th>HIGH</th>\n",
       "      <th>LOW</th>\n",
       "      <th>CLOSE</th>\n",
       "      <th>VOLUME</th>\n",
       "    </tr>\n",
       "    <tr>\n",
       "      <th>DATE</th>\n",
       "      <th>TIME</th>\n",
       "      <th></th>\n",
       "      <th></th>\n",
       "      <th></th>\n",
       "      <th></th>\n",
       "      <th></th>\n",
       "    </tr>\n",
       "  </thead>\n",
       "  <tbody>\n",
       "    <tr>\n",
       "      <th>1971.01.03</th>\n",
       "      <th>18:00</th>\n",
       "      <td> 0.5369</td>\n",
       "      <td> 0.5369</td>\n",
       "      <td> 0.5369</td>\n",
       "      <td> 0.5369</td>\n",
       "      <td> 1</td>\n",
       "    </tr>\n",
       "    <tr>\n",
       "      <th>1971.01.04</th>\n",
       "      <th>18:00</th>\n",
       "      <td> 0.5366</td>\n",
       "      <td> 0.5366</td>\n",
       "      <td> 0.5366</td>\n",
       "      <td> 0.5366</td>\n",
       "      <td> 1</td>\n",
       "    </tr>\n",
       "    <tr>\n",
       "      <th>1971.01.05</th>\n",
       "      <th>18:00</th>\n",
       "      <td> 0.5365</td>\n",
       "      <td> 0.5365</td>\n",
       "      <td> 0.5365</td>\n",
       "      <td> 0.5365</td>\n",
       "      <td> 1</td>\n",
       "    </tr>\n",
       "    <tr>\n",
       "      <th>1971.01.06</th>\n",
       "      <th>18:00</th>\n",
       "      <td> 0.5368</td>\n",
       "      <td> 0.5368</td>\n",
       "      <td> 0.5368</td>\n",
       "      <td> 0.5368</td>\n",
       "      <td> 1</td>\n",
       "    </tr>\n",
       "    <tr>\n",
       "      <th>1971.01.07</th>\n",
       "      <th>18:00</th>\n",
       "      <td> 0.5371</td>\n",
       "      <td> 0.5371</td>\n",
       "      <td> 0.5371</td>\n",
       "      <td> 0.5371</td>\n",
       "      <td> 1</td>\n",
       "    </tr>\n",
       "  </tbody>\n",
       "</table>\n",
       "</div>"
      ],
      "text/plain": [
       "                    OPEN    HIGH     LOW   CLOSE  VOLUME\n",
       "DATE       TIME                                         \n",
       "1971.01.03 18:00  0.5369  0.5369  0.5369  0.5369       1\n",
       "1971.01.04 18:00  0.5366  0.5366  0.5366  0.5366       1\n",
       "1971.01.05 18:00  0.5365  0.5365  0.5365  0.5365       1\n",
       "1971.01.06 18:00  0.5368  0.5368  0.5368  0.5368       1\n",
       "1971.01.07 18:00  0.5371  0.5371  0.5371  0.5371       1"
      ]
     },
     "execution_count": 12,
     "metadata": {},
     "output_type": "execute_result"
    }
   ],
   "source": [
    "candleDF.head()"
   ]
  },
  {
   "cell_type": "code",
   "execution_count": 22,
   "metadata": {
    "collapsed": false
   },
   "outputs": [
    {
     "data": {
      "text/plain": [
       "OPEN         1.24415\n",
       "HIGH         1.24689\n",
       "LOW          1.24393\n",
       "CLOSE        1.24644\n",
       "VOLUME    3663.00000\n",
       "Name: (2014.12.01, 05:00), dtype: float64"
      ]
     },
     "execution_count": 22,
     "metadata": {},
     "output_type": "execute_result"
    }
   ],
   "source": [
    "candleDF.loc['2014.12.01','05:00']"
   ]
  },
  {
   "cell_type": "code",
   "execution_count": 23,
   "metadata": {
    "collapsed": false
   },
   "outputs": [
    {
     "data": {
      "text/plain": [
       "1.2441500000000001"
      ]
     },
     "execution_count": 23,
     "metadata": {},
     "output_type": "execute_result"
    }
   ],
   "source": [
    "candleDF.loc['2014.12.01','05:00'].OPEN"
   ]
  },
  {
   "cell_type": "code",
   "execution_count": 25,
   "metadata": {
    "collapsed": true
   },
   "outputs": [],
   "source": [
    "from BeautifulSoup import BeautifulSoup"
   ]
  },
  {
   "cell_type": "code",
   "execution_count": 26,
   "metadata": {
    "collapsed": true
   },
   "outputs": [],
   "source": [
    "import urllib2"
   ]
  },
  {
   "cell_type": "code",
   "execution_count": 27,
   "metadata": {
    "collapsed": true
   },
   "outputs": [],
   "source": [
    "import codecs"
   ]
  },
  {
   "cell_type": "code",
   "execution_count": 68,
   "metadata": {
    "collapsed": false
   },
   "outputs": [],
   "source": [
    "url='file:///Users/PoFA/Workspace/FX/StrategyTesterAYResults.htm'\n"
   ]
  },
  {
   "cell_type": "code",
   "execution_count": 39,
   "metadata": {
    "collapsed": false
   },
   "outputs": [],
   "source": [
    "htm=resp.read()\n",
    "soup = BeautifulSoup(htm)"
   ]
  },
  {
   "cell_type": "code",
   "execution_count": null,
   "metadata": {
    "collapsed": false
   },
   "outputs": [],
   "source": []
  },
  {
   "cell_type": "code",
   "execution_count": 138,
   "metadata": {
    "collapsed": false
   },
   "outputs": [],
   "source": [
    "dfResult = pd.DataFrame(columns=keys)"
   ]
  },
  {
   "cell_type": "code",
   "execution_count": 211,
   "metadata": {
    "collapsed": false
   },
   "outputs": [],
   "source": [
    "keys=['#','Time','Type','Order','Size','Price','S / L','T / P','Profit','Balance']\n",
    "records={k:[] for k in keys}\n",
    "\n",
    "firstPass = True\n",
    "keyIdx = 0\n",
    "begBal = 0\n",
    "for table in data.split(\"</table>\"):\n",
    "    row=[]\n",
    "    if \"<table\" in table: \n",
    "        if \"Initial deposit\" in table:\n",
    "            for rowItem in table.split(\"</tr>\"):\n",
    "                if \"Initial deposit\" in rowItem:\n",
    "                    \n",
    "                    for colItem in rowItem.split(\"<td align=right\"):\n",
    "                        item = colItem.split(\"</td>\")\n",
    "                        if \">\" in item[0]:\n",
    "                            it = item[0].split(\">\")\n",
    "                            if \".\" in it[1]:\n",
    "                                begBal = float(it[1])\n",
    "\n",
    "                        \n",
    "    if \"class=msdate\" in table:\n",
    "        for rowItem in table.split(\"</tr>\"):\n",
    "            for colItem in rowItem.split(\"</td>\"):\n",
    "                item = colItem.split(\"<td>\")[-1]\n",
    "\n",
    "                if \"<td\" in item:\n",
    "                    item = item.split(\">\")[-1]\n",
    "                if firstPass:\n",
    "                    if item =='':\n",
    "                        firstPass = False\n",
    "                else:\n",
    "                    if item == '':\n",
    "                        keyIdx = 0\n",
    "                    else:\n",
    "                        records[keys[keyIdx]].append(item)\n",
    "\n",
    "                        keyIdx +=1"
   ]
  },
  {
   "cell_type": "code",
   "execution_count": 184,
   "metadata": {
    "collapsed": false
   },
   "outputs": [
    {
     "data": {
      "text/plain": [
       "str"
      ]
     },
     "execution_count": 184,
     "metadata": {},
     "output_type": "execute_result"
    }
   ],
   "source": [
    "type(colItem)"
   ]
  },
  {
   "cell_type": "code",
   "execution_count": 206,
   "metadata": {
    "collapsed": false
   },
   "outputs": [],
   "source": [
    "keys=['#','Time','Type','Order','Size','Price','S / L','T / P','Profit','Balance']\n",
    "records={k:[] for k in keys}"
   ]
  },
  {
   "cell_type": "code",
   "execution_count": 213,
   "metadata": {
    "collapsed": false
   },
   "outputs": [
    {
     "data": {
      "text/plain": [
       "58"
      ]
     },
     "execution_count": 213,
     "metadata": {},
     "output_type": "execute_result"
    }
   ],
   "source": [
    "\"\"\"Now I need to get this dict into a dataframe\"\"\""
   ]
  },
  {
   "cell_type": "code",
   "execution_count": null,
   "metadata": {
    "collapsed": true
   },
   "outputs": [],
   "source": []
  }
 ],
 "metadata": {
  "kernelspec": {
   "display_name": "Python 2",
   "language": "python",
   "name": "python2"
  },
  "language_info": {
   "codemirror_mode": {
    "name": "ipython",
    "version": 2
   },
   "file_extension": ".py",
   "mimetype": "text/x-python",
   "name": "python",
   "nbconvert_exporter": "python",
   "pygments_lexer": "ipython2",
   "version": "2.7.10"
  }
 },
 "nbformat": 4,
 "nbformat_minor": 0
}
